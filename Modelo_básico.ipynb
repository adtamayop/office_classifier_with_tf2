{
 "cells": [
  {
   "cell_type": "code",
   "execution_count": null,
   "metadata": {
    "colab": {},
    "colab_type": "code",
    "id": "hIt1tdInNozx"
   },
   "outputs": [],
   "source": [
    "# nos aseguramos de trabajar con tensor 2 utilizando la gpu\n",
    "!pip install tensorflow-gpu==2.0.0-beta1"
   ]
  },
  {
   "cell_type": "markdown",
   "metadata": {},
   "source": [
    "# Red convolucional - Clasificación de objetos de oficina\n",
    "\n",
    "#### Implementar una arquitectura convolucional para clasificar los diferentes objetos del punto 1. Se deben generar métricas de desempeño con el fin de seleccionar la arquitectura con mejores resultados.\n",
    "\n",
    "Modelo implementado en TensorFlow 2.0\n",
    "\n",
    "Estudiante: Andrés David Tamayo Palomino\n"
   ]
  },
  {
   "cell_type": "code",
   "execution_count": 22,
   "metadata": {
    "colab": {
     "base_uri": "https://localhost:8080/",
     "height": 34
    },
    "colab_type": "code",
    "id": "aiMti2skoFJO",
    "outputId": "25270877-229d-4e8a-a1d5-04302cb33d7c"
   },
   "outputs": [
    {
     "name": "stdout",
     "output_type": "stream",
     "text": [
      "Drive already mounted at /content/drive; to attempt to forcibly remount, call drive.mount(\"/content/drive\", force_remount=True).\n"
     ]
    }
   ],
   "source": [
    "# Conceder acceso a Drive para utilizar los archivos \n",
    "# alojados allí (solo si se va a correr en colab)\n",
    "from google.colab import drive\n",
    "drive.mount('/content/drive')"
   ]
  },
  {
   "cell_type": "code",
   "execution_count": null,
   "metadata": {
    "colab": {},
    "colab_type": "code",
    "id": "8XgpaxFvNsmA"
   },
   "outputs": [],
   "source": [
    "# importamos las librerías a utilizar\n",
    "import os\n",
    "import h5py\n",
    "import time\n",
    "import numpy as np\n",
    "import pandas as pd\n",
    "import tensorflow as tf\n",
    "from keras import backend as K\n",
    "import matplotlib.pyplot as plt\n",
    "import tensorflow.keras as keras\n",
    "from keras.utils import to_categorical\n",
    "from sklearn.metrics import confusion_matrix\n",
    "from tensorflow.python.client import device_lib \n",
    "from preprocess_images import Preprocesar_imagenes\n",
    "from tensorflow.keras import datasets, layers, models\n",
    "from sklearn.model_selection import train_test_split,RandomizedSearchCV\n",
    "from keras.preprocessing.image import load_img,img_to_array,array_to_img,save_img"
   ]
  },
  {
   "cell_type": "code",
   "execution_count": null,
   "metadata": {
    "colab": {},
    "colab_type": "code",
    "id": "M4a2mP_Eimjc"
   },
   "outputs": [],
   "source": [
    "class Modelo_oficina():\n",
    "  \n",
    "  def __init__(self,path):    \n",
    "    # verificación de disponibilidad de GPU\n",
    "    if(tf.test.is_gpu_available()):\n",
    "      print(\"GPU disponible para entrenar el modelo\")\n",
    "    else:\n",
    "      print(\"No hay GPU disponible\")\n",
    "      \n",
    "    self.path_proyecto = path\n",
    "    \n",
    "    # definimos el directorio raiz para guardar los logs\n",
    "    self.root_logdir = os.path.join(os.curdir, \"my_logs\")\n",
    "    \n",
    "  def cargar_dataset(self):\n",
    "    \"\"\"\n",
    "    Cargamos el archivo h5 con la clase Preprocesar imágenes\n",
    "    \"\"\"\n",
    "    cargar_archivo = Preprocesar_imagenes(self.path_proyecto)\n",
    "    return cargar_archivo.load_dataset(self.path_proyecto+\"base_redimensionada\")\n",
    "\n",
    "  \n",
    "  def one_hot_y(self,y):\n",
    "    \"\"\"\n",
    "    Convetirmos la variable numérica categórica a one_hot\n",
    "    \"\"\"    \n",
    "    return to_categorical(y)\n",
    "  \n",
    "  \n",
    "  def get_run_logdir(self):\n",
    "    \"\"\"\n",
    "    Path donde vamos a meter nuestros logs nombrado con fecha y hora para que \n",
    "    sea diferente en cada ejecución\n",
    "    \"\"\"\n",
    "    run_id = time.strftime(\"run_%Y_%m_%d-%H_%M_%S\")\n",
    "    return os.path.join(self.root_logdir, run_id)\n",
    "  \n",
    "  \n",
    "  def particion_dataset(self,X,y):\n",
    "    \n",
    "    X_train, X_test, y_train, y_test = train_test_split(X, y,\n",
    "                                                        stratify=y, \n",
    "                                                        test_size=0.2,\n",
    "                                                        random_state=77)       \n",
    "    \n",
    "    X_train, X_val, y_train, y_val = train_test_split(X_train, y_train, \n",
    "                                                     stratify=y_train, \n",
    "                                                     test_size=0.1, \n",
    "                                                     random_state=77)      \n",
    "    \n",
    "    return X_train,X_val,X_test,y_train,y_val,y_test\n",
    "  \n",
    "  \n",
    "  def normalizar_imagenes(self,train,val,test):    \n",
    "    \"\"\"\n",
    "    normalizamos los pixeles a valores entre 0 y 1 \n",
    "    \"\"\"\n",
    "    train_images, val_images, test_images = train / 255.0, val / 255.0 , test / 255.0\n",
    "    \n",
    "    return train_images, val_images, test_images\n",
    "  \n",
    "  \n",
    "  def arquitectura_modelo(self,n_hidden_conv= 1, n_hidden_dense = 1, n_neurons=32, learning_rate=0.001):\n",
    "    \"\"\"\n",
    "    Definición de la arquitectura del modelo, \n",
    "    y luego se retorna el modelo compilado\n",
    "    \"\"\"\n",
    "    \n",
    "    # necesario por error de padding en el maxpooling\n",
    "    K.set_image_dim_ordering('th')\n",
    "    \n",
    "    model = keras.models.Sequential()\n",
    "    \n",
    "    model.add(layers.Conv2D(n_neurons, (3, 3), activation='relu', padding='same',input_shape=(64, 64, 3)))\n",
    "    model.add(layers.BatchNormalization())\n",
    "    model.add(layers.MaxPooling2D((2, 2)))\n",
    "    keras.layers.Dropout(0.3)\n",
    "    \n",
    "    for i in range(n_hidden_conv+1):\n",
    "      model.add(layers.Conv2D(n_neurons, (3, 3),padding='same', activation='relu'))\n",
    "      model.add(layers.BatchNormalization())\n",
    "      model.add(layers.MaxPooling2D((2, 2)))\n",
    "      keras.layers.Dropout(0.3)\n",
    "    \n",
    "    model.add(layers.Flatten())\n",
    "    model.add(layers.Dense(n_neurons, activation='relu'))\n",
    "    model.add(layers.BatchNormalization())\n",
    "    keras.layers.Dropout(0.3)\n",
    "    \n",
    "    for i in range(n_hidden_dense+1):\n",
    "      model.add(layers.Dense(n_neurons, activation='relu'))\n",
    "    \n",
    "    model.add(layers.Dense(18, activation='softmax'))    \n",
    "    \n",
    "    optimizer = keras.optimizers.Adam(learning_rate)  \n",
    "    \n",
    "    model.compile(optimizer=optimizer,\n",
    "                  loss='sparse_categorical_crossentropy',\n",
    "                  metrics=['accuracy'])\n",
    "    \n",
    "    return model\n",
    "    \n",
    "  def train(self,modelo,X_train,y_train,X_val=None,y_val=None,epocas=50,lote=24):   \n",
    "    \"\"\"\n",
    "    Se entrena un modelo con la arquitectura definida y se retorna el modelo\n",
    "    y los datos de entrenamiento de este\n",
    "    \"\"\"\n",
    "    \n",
    "    run_logdir = self.get_run_logdir()\n",
    "\n",
    "    es = keras.callbacks.EarlyStopping(patience=7)\n",
    "    rp = keras.callbacks.ReduceLROnPlateau(patience=5,factor=0.5)\n",
    "    tb = keras.callbacks.TensorBoard(run_logdir)\n",
    "    # cp = keras.callbacks.ModelCheckpoint(\"mejor_modelo.h5\", save_best_only=True)\n",
    "       \n",
    "    \n",
    "    if X_val is None or y_val is None:      \n",
    "      history = modelo.fit(X_train, y_train, epochs=epocas,batch_size = lote,\n",
    "                        validation_split=0.1,\n",
    "                        callbacks=[es,rp,tb])\n",
    "    else:\n",
    "      history = modelo.fit(X_train, y_train, epochs=epocas,batch_size = lote,\n",
    "                  validation_data=(val_images,y_val),\n",
    "                  callbacks=[es,rp,tb])\n",
    "\n",
    "    return history,modelo\n",
    "  \n",
    "  \n",
    "  def tunning_modelo(self,train_images,y_train,val_images,y_val):\n",
    "    \"\"\"\n",
    "    TODO, que los parámetros de tunning se pasen por parametros y no estén quemados\n",
    "    pero me da pereza\n",
    "    \"\"\"\n",
    "    K.set_image_dim_ordering('th')\n",
    "    np.random.seed(77)\n",
    "    \n",
    "    keras_class = keras.wrappers.scikit_learn.KerasClassifier(self.arquitectura_modelo)\n",
    "\n",
    "    # tener en cuenta que la puntuación será la opuesta a la del crossentropy\n",
    "    # porque Scikit-Learn desea puntuaciones, no pérdidas. (es decir, más alto debería ser mejor).\n",
    "    \n",
    "    param_distribs = {\n",
    "        \"n_hidden_conv\": [1,2,3,4],\n",
    "        \"n_hidden_dense\": [1,2,3,4],\n",
    "        \"n_neurons\": [16,32,64,128,384,512],\n",
    "        \"learning_rate\": [0.0001,0.0003,0.0005],\n",
    "    }\n",
    "    \n",
    "    cnn_search_cv = RandomizedSearchCV(keras_class, param_distribs, n_iter=70, cv=2, verbose=2)\n",
    "\n",
    "    cnn_search_cv.fit(train_images, y_train, epochs=150,   \n",
    "                      validation_data = (val_images,y_val),                \n",
    "                      callbacks=[keras.callbacks.EarlyStopping(patience=7)\n",
    "                                 ,keras.callbacks.ReduceLROnPlateau(patience=5)])\n",
    "    \n",
    "    return cnn_search_cv\n",
    "  \n",
    "  \n",
    "  def resultados_tunning(self,mejor_modelo):\n",
    "    \n",
    "    print(\"Mejores parámetros: \\n\", mejor_modelo.best_params_)\n",
    "    \n",
    "    print(\"Mejor puntuación:  \",mejor_modelo.best_score_)  \n",
    "    \n",
    "    \n",
    "  def predict(self,modelo,X_test):\n",
    "    \n",
    "    return modelo.predict(X_test)\n",
    "\n",
    "    "
   ]
  },
  {
   "cell_type": "code",
   "execution_count": null,
   "metadata": {
    "colab": {},
    "colab_type": "code",
    "id": "So9vKQGTR7QM"
   },
   "outputs": [],
   "source": [
    "# ubicación del proyecto\n",
    "path = \"/content/drive/My Drive/Synced/u/predictive/Solucion_taller_1/\""
   ]
  },
  {
   "cell_type": "code",
   "execution_count": 40,
   "metadata": {
    "colab": {
     "base_uri": "https://localhost:8080/",
     "height": 34
    },
    "colab_type": "code",
    "id": "BtbDtd-Dcg2j",
    "outputId": "9534a728-8cc7-4b80-dd78-10632d02ccd6"
   },
   "outputs": [
    {
     "name": "stdout",
     "output_type": "stream",
     "text": [
      "GPU disponible para entrenar el modelo\n"
     ]
    }
   ],
   "source": [
    "modelo = Modelo_oficina(path)\n",
    "\n",
    "X,y,nombres = modelo.cargar_dataset()\n",
    "\n",
    "X_train,X_val,X_test,y_train,y_val,y_test = modelo.particion_dataset(X,y)"
   ]
  },
  {
   "cell_type": "code",
   "execution_count": 44,
   "metadata": {
    "colab": {
     "base_uri": "https://localhost:8080/",
     "height": 68
    },
    "colab_type": "code",
    "id": "OQn7oQZ00Nvj",
    "outputId": "8bfd0fd4-657b-45d3-d935-2dd66a2720a2"
   },
   "outputs": [
    {
     "name": "stdout",
     "output_type": "stream",
     "text": [
      "(19309, 64, 64, 3)\n",
      "(2146, 64, 64, 3)\n",
      "(5364, 64, 64, 3)\n"
     ]
    }
   ],
   "source": [
    "print(X_train.shape)\n",
    "print(X_val.shape)\n",
    "print(X_test.shape)"
   ]
  },
  {
   "cell_type": "code",
   "execution_count": null,
   "metadata": {
    "colab": {},
    "colab_type": "code",
    "id": "CHOdmjLR0Ns7"
   },
   "outputs": [],
   "source": [
    "# se normalizan las imágenes\n",
    "train_images, val_images, test_images = modelo.normalizar_imagenes(X_train,X_val,X_test)"
   ]
  },
  {
   "cell_type": "markdown",
   "metadata": {
    "colab_type": "text",
    "id": "UavWgMwJJfUM"
   },
   "source": [
    "### Busqueda de una buena arquitectura"
   ]
  },
  {
   "cell_type": "code",
   "execution_count": null,
   "metadata": {
    "colab": {},
    "colab_type": "code",
    "id": "aLymUpMm0Nks"
   },
   "outputs": [],
   "source": [
    "# se busca la mejor arquitectura entre un grupo de parámetros \n",
    "modelo_optimo = modelo.tunning_modelo(train_images,y_train,val_images,y_val)"
   ]
  },
  {
   "cell_type": "code",
   "execution_count": 19,
   "metadata": {
    "colab": {
     "base_uri": "https://localhost:8080/",
     "height": 68
    },
    "colab_type": "code",
    "id": "5p6gLpk75Y7o",
    "outputId": "c6fc9b4e-32fe-460d-a9fb-37614938e913"
   },
   "outputs": [
    {
     "name": "stdout",
     "output_type": "stream",
     "text": [
      "Mejores parámetros: \n",
      " {'n_neurons': 384, 'n_hidden_dense': 2, 'n_hidden_conv': 3, 'learning_rate': 0.0005}\n",
      "Mejor puntuación:   0.7712465646975809\n"
     ]
    }
   ],
   "source": [
    "# los resultados de la mejor arquitectura encontrada\n",
    "modelo.resultados_tunning(modelo_optimo)"
   ]
  },
  {
   "cell_type": "markdown",
   "metadata": {
    "colab_type": "text",
    "id": "oreVIlHVJoJm"
   },
   "source": [
    "### Entrenamiento modelo\n",
    "\n",
    "Una vez encontrada la mejor arquitectura, vamos a entrenar nuestro modelo de forma individual para obtener registros del comportamiento durante su entrenamiento y métricas del rendimiento final del modelo"
   ]
  },
  {
   "cell_type": "code",
   "execution_count": null,
   "metadata": {
    "colab": {},
    "colab_type": "code",
    "id": "ZXAmCch5XFNk"
   },
   "outputs": [],
   "source": [
    "arquitectura = modelo.arquitectura_modelo(3,2,384,0.005)"
   ]
  },
  {
   "cell_type": "code",
   "execution_count": null,
   "metadata": {
    "colab": {},
    "colab_type": "code",
    "id": "Q-0RoXJmXFKa"
   },
   "outputs": [],
   "source": [
    "history,modelo_entrenado = modelo.train(arquitectura,train_images,y_train,val_images,y_val,100,20)"
   ]
  },
  {
   "cell_type": "code",
   "execution_count": 55,
   "metadata": {
    "colab": {
     "base_uri": "https://localhost:8080/",
     "height": 51
    },
    "colab_type": "code",
    "id": "R0w7rnA2XFBG",
    "outputId": "404d4d0c-45ef-47f3-9ddb-66a072ae203a"
   },
   "outputs": [
    {
     "name": "stdout",
     "output_type": "stream",
     "text": [
      "5364/5364 [==============================] - 10s 2ms/sample - loss: 0.9886 - accuracy: 0.8043\n"
     ]
    },
    {
     "data": {
      "text/plain": [
       "[0.988602847172021, 0.80425054]"
      ]
     },
     "execution_count": 55,
     "metadata": {
      "tags": []
     },
     "output_type": "execute_result"
    }
   ],
   "source": [
    "modelo_entrenado.evaluate(test_images,y_test)"
   ]
  },
  {
   "cell_type": "code",
   "execution_count": null,
   "metadata": {
    "colab": {},
    "colab_type": "code",
    "id": "QWCHooGf-ND_"
   },
   "outputs": [],
   "source": [
    "losses = {key:history.history[key] for key in ['loss', 'val_loss']}\n",
    "accuracy = {key:history.history[key] for key in ['accuracy', 'val_accuracy']}"
   ]
  },
  {
   "cell_type": "code",
   "execution_count": 95,
   "metadata": {
    "colab": {
     "base_uri": "https://localhost:8080/",
     "height": 340
    },
    "colab_type": "code",
    "id": "1vr2noX37pgh",
    "outputId": "e543eeb2-134c-414a-ef2d-fe14a3e82d0d"
   },
   "outputs": [
    {
     "data": {
      "image/png": "[encoded data removed]",
      "text/plain": [
       "<Figure size 720x360 with 1 Axes>"
      ]
     },
     "metadata": {
      "tags": []
     },
     "output_type": "display_data"
    }
   ],
   "source": [
    "pd.DataFrame(losses).plot(figsize=(10, 5))\n",
    "plt.gca().set_ylim(0, 4)\n",
    "plt.xlabel(\"Épocas\")\n",
    "plt.ylabel(\"Loss\")\n",
    "plt.grid(True)\n",
    "plt.show()"
   ]
  },
  {
   "cell_type": "code",
   "execution_count": 98,
   "metadata": {
    "colab": {
     "base_uri": "https://localhost:8080/",
     "height": 340
    },
    "colab_type": "code",
    "id": "aL1Tg4T2CnuR",
    "outputId": "27986123-71fc-42f8-84cf-5bcff0c4ee0d"
   },
   "outputs": [
    {
     "data": {
      "image/png": "[encoded data removed]",
      "text/plain": [
       "<Figure size 720x360 with 1 Axes>"
      ]
     },
     "metadata": {
      "tags": []
     },
     "output_type": "display_data"
    }
   ],
   "source": [
    "pd.DataFrame(accuracy).plot(figsize=(10, 5))\n",
    "plt.gca().set_ylim(0, 1)\n",
    "plt.xlabel(\"Épocas\")\n",
    "plt.ylabel(\"Accuracy\")\n",
    "plt.grid(True)\n",
    "plt.show()"
   ]
  },
  {
   "cell_type": "code",
   "execution_count": null,
   "metadata": {
    "colab": {},
    "colab_type": "code",
    "id": "h6-ybYK07pWm"
   },
   "outputs": [],
   "source": [
    "# Para ver los logs de entrenamiento en tensorboard\n",
    "# !tensorboard --logdir=./my_logs --port=6006\n",
    "\n",
    "modelo_entrenado.save(\"modelo_propio.h5\")"
   ]
  },
  {
   "cell_type": "markdown",
   "metadata": {
    "colab_type": "text",
    "id": "ygbsxY5WJ_9m"
   },
   "source": [
    "**Conclusiones:**\n",
    "\n",
    "Se obtiene un accuracy de 80.4% en nuestro modelo\n",
    "\n",
    "Las gráficas de pérdida y exactitud nos muestran que el modelo tiene un poco de sobreajuste, esto se podría solucionar con image augmentation y tuneando parámetros como el dropout, y también se podría programar la tasa de aprendizaje para que vaya aprendiendo y modificandose durante el entrenamiento para tratar de obtener un mejor resultado en nuestra métrica."
   ]
  }
 ],
 "metadata": {
  "accelerator": "GPU",
  "colab": {
   "collapsed_sections": [],
   "name": "Modelo básico.ipynb",
   "provenance": [],
   "version": "0.3.2"
  },
  "kernelspec": {
   "display_name": "Python 3",
   "language": "python",
   "name": "python3"
  },
  "language_info": {
   "codemirror_mode": {
    "name": "ipython",
    "version": 3
   },
   "file_extension": ".py",
   "mimetype": "text/x-python",
   "name": "python",
   "nbconvert_exporter": "python",
   "pygments_lexer": "ipython3",
   "version": "3.6.7"
  }
 },
 "nbformat": 4,
 "nbformat_minor": 2
}
